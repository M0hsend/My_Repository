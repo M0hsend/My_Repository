{
 "cells": [
  {
   "cell_type": "markdown",
   "metadata": {},
   "source": [
    "## Electron ptychography cheat sheet\n",
    "\n",
    "A ptychography experiment should satisfy sampling and overlap criteria:\n",
    "\n",
    "### Sampling\n",
    "\n",
    "Things go much smoother if the diffraction pattern is fully sampled on the detector. The real space pixel size is given by \n",
    "$$\\Delta x = \\lambda / \\theta_D,$$\n",
    "where \n",
    "$$\\theta_D = {D \\over L}$$\n",
    "is the lateral opening angle of the detector, with $D = N s = 256 \\times 55 \\mathrm{\\mu m} = 14.08 \\mathrm{mm}$ is the width of the Merlin detector and $L$ the camera length.\n",
    "\n",
    "In our case the Nyquist criterion is equivalent to the statement that the illumination must not be wider than half the real-space field of view:\n",
    "$$w < \\frac{N}{2} \\Delta x,$$\n",
    "or\n",
    "$$w < \\frac{\\lambda L}{2 s}.$$\n",
    "If $\\alpha$ is the convergence semi-angle and the sample is defocused by a distance $d$, then $w \\approx 2 \\alpha d$, and \n",
    "$$d < \\frac{\\lambda L}{4 \\alpha s}.$$\n",
    "For $30\\;\\mathrm{keV}$ electrons, $L = 18.3\\;\\mathrm{cm}$ and $\\alpha = 24.2\\;\\mathrm{mrad}$, the defocus should never be larger than $240\\;\\mathrm{nm}$. For now I'd suggest that we not venture further than half of this limit.\n",
    "\n",
    "\n",
    "### Overlap\n",
    "\n",
    "To ensure sufficient redundancy in the dataset, neighbouring illuminated regions have to overlap. A possible rule of thumb is to adjust the step size so that, for the inner part of the scanned area, every part is illuminated more than once. With a disc illumination on a square lattice, this means a step size roughly $35\\%$ the diameter of the probe. From what we obtained above, we get that the step size $l$ (sorry I'm running out of variables already) is limited by the inequality\n",
    "$$l < 0.35 w$$\n",
    "\n",
    "### Reciprocal space overlap\n",
    "\n",
    "This is relevant only when imaging periodic samples. Information on the position the probe within a unit cell is encoded in the interference between the Bragg discs. To ensure that this is not a problem, the aperture size has to be large enough. For a unit cell width $a$, we must have\n",
    "$$\\alpha > \\frac{\\lambda}{2a}.$$\n"
   ]
  },
  {
   "cell_type": "code",
   "execution_count": 1,
   "metadata": {},
   "outputs": [],
   "source": [
    "%matplotlib inline\n",
    "from matplotlib import pyplot as plt\n",
    "import numpy as np"
   ]
  },
  {
   "cell_type": "code",
   "execution_count": 2,
   "metadata": {},
   "outputs": [],
   "source": [
    "# Constants\n",
    "detector_pixel_size = 220e-6\n",
    "N = 64  # Number of lateral pixels on the merlin detector \n",
    "electron_rest_mass_eV = 510998.9461\n",
    "hc_m_eV = 1.23984197e-6 "
   ]
  },
  {
   "cell_type": "code",
   "execution_count": 3,
   "metadata": {},
   "outputs": [],
   "source": [
    "# Initial parameters\n",
    "electron_energy_eV = 80000.\n",
    "semi_angle = .020\n",
    "\n",
    "wavelength = hc_m_eV / np.sqrt(electron_energy_eV*(electron_energy_eV + 2*electron_rest_mass_eV))"
   ]
  },
  {
   "cell_type": "code",
   "execution_count": 4,
   "metadata": {},
   "outputs": [],
   "source": [
    "# Suggested procedure: first choose a target pixel size\n",
    "# Example here: 0.5 Angstrom\n",
    "dx = .4076e-10\n",
    "\n",
    "### 1) Compute camera length\n",
    "camera_length = dx * N * detector_pixel_size / wavelength\n",
    "\n",
    "# Apparently we don't know the exact camera length\n",
    "# so instead we can compute the expected pupil radius on the detector\n",
    "target_pupil_radius = camera_length * semi_angle\n",
    "\n",
    "# Now we would change the camera length until the pupil radius target is reached\n",
    "\n",
    "### 2) Select defocus\n",
    "\n",
    "# Given the pixel size we can accommodate the width of an illumination of at most dx * N / 2 \n",
    "# This informs us on the maximum defocus (additional 1/2 because we divide by semi-angle)\n",
    "max_defocus = .25*dx*N / semi_angle\n",
    "\n",
    "# Let's say we chose half this value \n",
    "defocus = .5 * max_defocus\n",
    "\n",
    "# The illumination width will be \n",
    "probe_width = 2*semi_angle*defocus\n",
    "\n",
    "# And the maximum step size\n",
    "max_step_size = .35 * probe_width\n",
    "\n",
    "# Again, it is ok to be conservative\n",
    "step_size = .5*max_step_size\n",
    "\n",
    "# ... and it is nicer to refine it to be an integral number of pixels\n",
    "refined_step_size = dx * np.floor(step_size/dx)"
   ]
  },
  {
   "cell_type": "code",
   "execution_count": 5,
   "metadata": {},
   "outputs": [
    {
     "name": "stdout",
     "output_type": "stream",
     "text": [
      "Camera length: 137.437698 mm\n",
      "Defocus: 16.304000 nm\n",
      "Scanning step size: 0.081520 nm\n"
     ]
    }
   ],
   "source": [
    "print('Camera length: %f mm' % (camera_length*1e3))\n",
    "print('Defocus: %f nm' % (defocus*1e9))\n",
    "print('Scanning step size: %f nm' % (refined_step_size*1e9))"
   ]
  },
  {
   "cell_type": "code",
   "execution_count": 8,
   "metadata": {},
   "outputs": [
    {
     "data": {
      "text/plain": [
       "8.1520000000000006e-11"
      ]
     },
     "execution_count": 8,
     "metadata": {},
     "output_type": "execute_result"
    }
   ],
   "source": [
    "refined_step_size"
   ]
  },
  {
   "cell_type": "markdown",
   "metadata": {},
   "source": [
    "#### Code used to estimate the pupil radius"
   ]
  },
  {
   "cell_type": "code",
   "execution_count": null,
   "metadata": {},
   "outputs": [],
   "source": [
    "from scipy import ndimage as ndi\n",
    "\n",
    "# Assuming data is a (nx, ny, 256, 256) array.\n",
    "# Compute frame average\n",
    "dm = data.mean(axis=0).mean(axis=0)\n",
    "\n",
    "# Estimate pupil area through thresholding\n",
    "pupil_mask = ndi.binary_closing(dm>.05*dm.max(), iterations=2)\n",
    "\n",
    "# Radius based on area (in pixel units)\n",
    "pupil_r = np.sqrt(pupil_mask.sum()/np.pi)"
   ]
  },
  {
   "cell_type": "markdown",
   "metadata": {},
   "source": [
    "#### STEM analysis"
   ]
  },
  {
   "cell_type": "code",
   "execution_count": null,
   "metadata": {},
   "outputs": [],
   "source": [
    "x0 = np.arange(data.shape[-1]).reshape((1,1,-1)) - data.shape[-1]/2.\n",
    "s0 = data.sum(axis=-2)\n",
    "s1 = data.sum(axis=-1)\n",
    "trans = s0.sum(axis=-1)\n",
    "dpcx = (s0*x0).sum(axis=-1)/trans\n",
    "dpcy = (s1*x0).sum(axis=-1)/trans\n",
    "plt.subplot(131); plt.imshow(trans); plt.title('Transmission');\n",
    "plt.subplot(132); plt.imshow(dpcx); plt.title('Differential phase contrast x');\n",
    "plt.subplot(133); plt.imshow(dpcy); plt.title('Differential phase contrast y');"
   ]
  }
 ],
 "metadata": {
  "kernelspec": {
   "display_name": "Python 2",
   "language": "python",
   "name": "python2"
  },
  "language_info": {
   "codemirror_mode": {
    "name": "ipython",
    "version": 2
   },
   "file_extension": ".py",
   "mimetype": "text/x-python",
   "name": "python",
   "nbconvert_exporter": "python",
   "pygments_lexer": "ipython2",
   "version": "2.7.15"
  }
 },
 "nbformat": 4,
 "nbformat_minor": 2
}
