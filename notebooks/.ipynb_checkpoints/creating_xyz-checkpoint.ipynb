{
 "cells": [
  {
   "cell_type": "code",
   "execution_count": 1,
   "metadata": {},
   "outputs": [],
   "source": [
    "%matplotlib qt5"
   ]
  },
  {
   "cell_type": "code",
   "execution_count": 2,
   "metadata": {},
   "outputs": [],
   "source": [
    "import numpy as np\n",
    "import os"
   ]
  },
  {
   "cell_type": "code",
   "execution_count": 3,
   "metadata": {},
   "outputs": [],
   "source": [
    "file = r'/dls/science/groups/e02/Mohsen/code/sim_4DSTEM/ptypy_pycho_sim_matrix/create_sim_data_prismatic/xyz_files/graphene_island_doped.xyz'"
   ]
  },
  {
   "cell_type": "code",
   "execution_count": 4,
   "metadata": {},
   "outputs": [],
   "source": [
    "with open(file, 'r') as f:\n",
    "    #data = np.genfromtxt(f, delimiter=' ', skip_header=1)\n",
    "    data = np.genfromtxt(f, delimiter='  ', skip_header=2, skip_footer = 1,usecols = (1,2,3))"
   ]
  },
  {
   "cell_type": "code",
   "execution_count": 5,
   "metadata": {},
   "outputs": [
    {
     "data": {
      "text/plain": [
       "array([[11.6956,  2.4519,  3.777 ],\n",
       "       [13.1532,  2.4583,  3.7316],\n",
       "       [13.8828,  1.2321,  3.9299],\n",
       "       [15.3315,  1.2438,  3.9492],\n",
       "       [16.0689,  2.478 ,  3.7878],\n",
       "       [17.5128,  2.4979,  3.8738],\n",
       "       [ 7.4043,  4.7466,  3.9505],\n",
       "       [ 8.6782,  4.741 ,  3.7583],\n",
       "       [ 9.5966,  3.7333,  3.7456],\n",
       "       [10.97  ,  3.7078,  3.6013],\n",
       "       [11.8553,  4.6959,  3.3503],\n",
       "       [13.1728,  4.9182,  3.2601],\n",
       "       [13.9052,  3.6739,  3.5024],\n",
       "       [15.3518,  3.7011,  3.5425],\n",
       "       [16.0896,  4.938 ,  3.3655],\n",
       "       [17.5364,  4.9753,  3.5003],\n",
       "       [18.2474,  3.7429,  3.7616],\n",
       "       [19.687 ,  3.7577,  3.9174],\n",
       "       [20.4241,  5.0014,  3.8798],\n",
       "       [14.0182,  5.9448,  3.0774],\n",
       "       [15.3412,  6.1804,  3.0883],\n",
       "       [16.1785,  7.225 ,  2.9889],\n",
       "       [17.4882,  7.475 ,  3.1009],\n",
       "       [18.2792,  6.2304,  3.4039],\n",
       "       [19.7344,  6.244 ,  3.6388],\n",
       "       [20.5238,  7.5033,  3.6513],\n",
       "       [21.8886,  7.536 ,  3.9603],\n",
       "       [18.3673,  8.513 ,  3.107 ],\n",
       "       [19.643 ,  8.5064,  3.3433]])"
      ]
     },
     "execution_count": 5,
     "metadata": {},
     "output_type": "execute_result"
    }
   ],
   "source": [
    "data"
   ]
  },
  {
   "cell_type": "code",
   "execution_count": 6,
   "metadata": {},
   "outputs": [],
   "source": [
    "import matplotlib.pyplot as plt"
   ]
  },
  {
   "cell_type": "code",
   "execution_count": 7,
   "metadata": {},
   "outputs": [
    {
     "data": {
      "text/plain": [
       "<matplotlib.collections.PathCollection at 0x7facdc0e8b70>"
      ]
     },
     "execution_count": 7,
     "metadata": {},
     "output_type": "execute_result"
    }
   ],
   "source": [
    "fig, ax = plt.subplots()\n",
    "#ax.scatter(data[:,0], data[:,1])\n",
    "#ax.scatter(data_new[:,0], data_new[:,1])\n",
    "ax.scatter(data[:,0], data[:,1])"
   ]
  },
  {
   "cell_type": "code",
   "execution_count": 8,
   "metadata": {},
   "outputs": [
    {
     "data": {
      "text/plain": [
       "array([[23.6956, 19.4519,  3.777 ],\n",
       "       [25.1532, 19.4583,  3.7316],\n",
       "       [25.8828, 18.2321,  3.9299],\n",
       "       [27.3315, 18.2438,  3.9492],\n",
       "       [28.0689, 19.478 ,  3.7878],\n",
       "       [29.5128, 19.4979,  3.8738],\n",
       "       [19.4043, 21.7466,  3.9505],\n",
       "       [20.6782, 21.741 ,  3.7583],\n",
       "       [21.5966, 20.7333,  3.7456],\n",
       "       [22.97  , 20.7078,  3.6013],\n",
       "       [23.8553, 21.6959,  3.3503],\n",
       "       [25.1728, 21.9182,  3.2601],\n",
       "       [25.9052, 20.6739,  3.5024],\n",
       "       [27.3518, 20.7011,  3.5425],\n",
       "       [28.0896, 21.938 ,  3.3655],\n",
       "       [29.5364, 21.9753,  3.5003],\n",
       "       [30.2474, 20.7429,  3.7616],\n",
       "       [31.687 , 20.7577,  3.9174],\n",
       "       [32.4241, 22.0014,  3.8798],\n",
       "       [26.0182, 22.9448,  3.0774],\n",
       "       [27.3412, 23.1804,  3.0883],\n",
       "       [28.1785, 24.225 ,  2.9889],\n",
       "       [29.4882, 24.475 ,  3.1009],\n",
       "       [30.2792, 23.2304,  3.4039],\n",
       "       [31.7344, 23.244 ,  3.6388],\n",
       "       [32.5238, 24.5033,  3.6513],\n",
       "       [33.8886, 24.536 ,  3.9603],\n",
       "       [30.3673, 25.513 ,  3.107 ],\n",
       "       [31.643 , 25.5064,  3.3433]])"
      ]
     },
     "execution_count": 8,
     "metadata": {},
     "output_type": "execute_result"
    }
   ],
   "source": [
    "data_new = np.copy(data)\n",
    "data_new[:,0] = data[:,0]+12\n",
    "data_new[:,1] = data[:,1]+17\n",
    "data_new"
   ]
  },
  {
   "cell_type": "code",
   "execution_count": 127,
   "metadata": {},
   "outputs": [],
   "source": [
    "with open(file, 'r') as f:\n",
    "    for i, line in enumerate(f):\n",
    "        if i is 1:\n",
    "            data = np.asarray(line.split(), dtype = float)"
   ]
  },
  {
   "cell_type": "code",
   "execution_count": 130,
   "metadata": {},
   "outputs": [
    {
     "data": {
      "text/plain": [
       "array([26.1719, 26.4031,  6.6485])"
      ]
     },
     "execution_count": 130,
     "metadata": {},
     "output_type": "execute_result"
    }
   ],
   "source": [
    "data"
   ]
  },
  {
   "cell_type": "code",
   "execution_count": 40,
   "metadata": {},
   "outputs": [],
   "source": [
    "fig, ax = plt.subplots()"
   ]
  },
  {
   "cell_type": "code",
   "execution_count": 13,
   "metadata": {},
   "outputs": [
    {
     "data": {
      "text/plain": [
       "(2430, 3)"
      ]
     },
     "execution_count": 13,
     "metadata": {},
     "output_type": "execute_result"
    }
   ],
   "source": [
    "data.shape"
   ]
  },
  {
   "cell_type": "code",
   "execution_count": 37,
   "metadata": {},
   "outputs": [
    {
     "data": {
      "text/plain": [
       "81.521152"
      ]
     },
     "execution_count": 37,
     "metadata": {},
     "output_type": "execute_result"
    }
   ],
   "source": [
    "max(data[:,0])"
   ]
  },
  {
   "cell_type": "code",
   "execution_count": 36,
   "metadata": {},
   "outputs": [
    {
     "data": {
      "text/plain": [
       "array([[10.840352 ,  8.7739316,  5.306486 ],\n",
       "       [12.282852 ,  8.7780116,  5.353765 ],\n",
       "       [15.176452 ,  8.7914616,  5.42642  ],\n",
       "       ...,\n",
       "       [79.362052 , 82.4427416,  5.0129   ],\n",
       "       [80.081452 , 83.6915416,  5.0039   ],\n",
       "       [81.521152 , 83.6925416,  5.0625   ]])"
      ]
     },
     "execution_count": 36,
     "metadata": {},
     "output_type": "execute_result"
    }
   ],
   "source": [
    "data"
   ]
  },
  {
   "cell_type": "code",
   "execution_count": 99,
   "metadata": {},
   "outputs": [
    {
     "data": {
      "text/plain": [
       "array([[11.6956,  2.4519,  3.777 ],\n",
       "       [13.1532,  2.4583,  3.7316],\n",
       "       [13.8828,  1.2321,  3.9299],\n",
       "       [15.3315,  1.2438,  3.9492],\n",
       "       [16.0689,  2.478 ,  3.7878],\n",
       "       [17.5128,  2.4979,  3.8738],\n",
       "       [ 7.4043,  4.7466,  3.9505],\n",
       "       [ 8.6782,  4.741 ,  3.7583],\n",
       "       [ 9.5966,  3.7333,  3.7456],\n",
       "       [10.97  ,  3.7078,  3.6013],\n",
       "       [11.8553,  4.6959,  3.3503],\n",
       "       [13.1728,  4.9182,  3.2601],\n",
       "       [13.9052,  3.6739,  3.5024],\n",
       "       [15.3518,  3.7011,  3.5425],\n",
       "       [16.0896,  4.938 ,  3.3655],\n",
       "       [17.5364,  4.9753,  3.5003],\n",
       "       [18.2474,  3.7429,  3.7616],\n",
       "       [19.687 ,  3.7577,  3.9174],\n",
       "       [20.4241,  5.0014,  3.8798],\n",
       "       [14.0182,  5.9448,  3.0774],\n",
       "       [15.3412,  6.1804,  3.0883],\n",
       "       [16.1785,  7.225 ,  2.9889],\n",
       "       [17.4882,  7.475 ,  3.1009],\n",
       "       [18.2792,  6.2304,  3.4039],\n",
       "       [19.7344,  6.244 ,  3.6388],\n",
       "       [20.5238,  7.5033,  3.6513],\n",
       "       [21.8886,  7.536 ,  3.9603],\n",
       "       [18.3673,  8.513 ,  3.107 ],\n",
       "       [19.643 ,  8.5064,  3.3433]])"
      ]
     },
     "execution_count": 99,
     "metadata": {},
     "output_type": "execute_result"
    }
   ],
   "source": [
    "data_new2"
   ]
  },
  {
   "cell_type": "code",
   "execution_count": 82,
   "metadata": {},
   "outputs": [],
   "source": [
    "data_new = data[data[:,0] <90 ]\n",
    "data_new = data_new[data_new[:,0] >55 ]\n",
    "data_new = data_new[data_new[:,1] <53 ]\n",
    "data_new = data_new[data_new[:,1] >25 ]"
   ]
  },
  {
   "cell_type": "code",
   "execution_count": 97,
   "metadata": {},
   "outputs": [],
   "source": [
    "data_new2 = data_new[data_new[:,2] < 4 ]"
   ]
  },
  {
   "cell_type": "code",
   "execution_count": 83,
   "metadata": {},
   "outputs": [],
   "source": [
    "data_new[:,0] = data_new[:,0] - min(data_new[:,0])\n",
    "data_new[:,1] = data_new[:,1] - min(data_new[:,1])"
   ]
  },
  {
   "cell_type": "code",
   "execution_count": 103,
   "metadata": {},
   "outputs": [
    {
     "data": {
      "text/plain": [
       "8.513000000000002"
      ]
     },
     "execution_count": 103,
     "metadata": {},
     "output_type": "execute_result"
    }
   ],
   "source": [
    "max(data_new2[:,1])"
   ]
  },
  {
   "cell_type": "code",
   "execution_count": 98,
   "metadata": {},
   "outputs": [
    {
     "data": {
      "text/plain": [
       "<matplotlib.collections.PathCollection at 0x7fa7cc411e48>"
      ]
     },
     "execution_count": 98,
     "metadata": {},
     "output_type": "execute_result"
    }
   ],
   "source": [
    "fig, ax = plt.subplots()\n",
    "#ax.scatter(data[:,0], data[:,1])\n",
    "#ax.scatter(data_new[:,0], data_new[:,1])\n",
    "ax.scatter(data_new2[:,0], data_new2[:,1])"
   ]
  },
  {
   "cell_type": "code",
   "execution_count": 10,
   "metadata": {},
   "outputs": [],
   "source": [
    "check = data[:][:] <30.0"
   ]
  },
  {
   "cell_type": "code",
   "execution_count": 11,
   "metadata": {},
   "outputs": [],
   "source": [
    "data_crop = data*check"
   ]
  },
  {
   "cell_type": "code",
   "execution_count": 24,
   "metadata": {},
   "outputs": [
    {
     "data": {
      "text/plain": [
       "(2430, 4)"
      ]
     },
     "execution_count": 24,
     "metadata": {},
     "output_type": "execute_result"
    }
   ],
   "source": [
    "data.shape"
   ]
  },
  {
   "cell_type": "code",
   "execution_count": 22,
   "metadata": {},
   "outputs": [
    {
     "name": "stdout",
     "output_type": "stream",
     "text": [
      "109 [2.6102 0.     1.1163]\n",
      "113 [5.0152 0.     1.1163]\n",
      "117 [7.4176 0.     1.1162]\n",
      "121 [9.8181 0.     1.1162]\n",
      "125 [12.2189  0.      1.1161]\n",
      "129 [14.6261  0.      1.1161]\n",
      "133 [0.2265 0.     1.1162]\n",
      "137 [2.6341 0.     1.1162]\n",
      "141 [5.0399 0.     1.1162]\n",
      "145 [7.4446 0.     1.1162]\n",
      "149 [9.8482 0.     1.1161]\n",
      "153 [12.2498  0.      1.116 ]\n",
      "157 [14.6481  0.      1.1159]\n",
      "161 [1.4246 0.     1.1162]\n",
      "165 [3.8314 0.     1.1162]\n",
      "169 [6.2361 0.     1.1162]\n",
      "173 [8.6395 0.     1.1162]\n",
      "177 [11.0412  0.      1.1161]\n",
      "181 [13.4409  0.      1.116 ]\n",
      "185 [1.4124 0.     1.1163]\n",
      "189 [3.8188 0.     1.1163]\n",
      "193 [6.2227 0.     1.1162]\n",
      "197 [8.6252 0.     1.1162]\n",
      "201 [11.0271  0.      1.1161]\n",
      "205 [13.4313  0.      1.1161]\n",
      "304 [17.0523  0.      1.1161]\n",
      "308 [19.5007  0.      1.1161]\n",
      "312 [21.9422  0.      1.1162]\n",
      "316 [24.3544  0.      1.1165]\n",
      "320 [26.7503  0.      1.1167]\n",
      "327 [17.0436  0.      1.1159]\n",
      "331 [19.4533  0.      1.1159]\n",
      "335 [21.8788  0.      1.116 ]\n",
      "339 [24.2728  0.      1.1162]\n",
      "343 [26.6714  0.      1.1165]\n",
      "347 [29.0817  0.      1.1167]\n",
      "351 [15.8399  0.      1.1159]\n",
      "355 [18.2517  0.      1.1159]\n",
      "359 [20.6849  0.      1.116 ]\n",
      "363 [23.1002  0.      1.1162]\n",
      "367 [25.4909  0.      1.1164]\n",
      "371 [27.8921  0.      1.1167]\n",
      "375 [15.8429  0.      1.116 ]\n",
      "379 [18.2693  0.      1.116 ]\n",
      "383 [20.7071  0.      1.1161]\n",
      "387 [23.1289  0.      1.1163]\n",
      "391 [25.5301  0.      1.1165]\n",
      "395 [27.9322  0.      1.1168]\n"
     ]
    }
   ],
   "source": [
    "inds=[]\n",
    "for (i,v) in enumerate(data_crop): \n",
    "    if ~np.all(data_crop[i]): \n",
    "        print(i,v)\n",
    "        inds.append(i)\n",
    "        #np.delete(data_crop,data_crop[i][:],0)"
   ]
  },
  {
   "cell_type": "code",
   "execution_count": 23,
   "metadata": {},
   "outputs": [
    {
     "data": {
      "text/plain": [
       "array([25.5301,  0.    ,  1.1165])"
      ]
     },
     "execution_count": 23,
     "metadata": {},
     "output_type": "execute_result"
    }
   ],
   "source": [
    "data_crop[391][:]"
   ]
  },
  {
   "cell_type": "code",
   "execution_count": 29,
   "metadata": {},
   "outputs": [],
   "source": [
    "data_crop = np.delete(data_crop,inds, 0)"
   ]
  },
  {
   "cell_type": "code",
   "execution_count": 30,
   "metadata": {},
   "outputs": [
    {
     "data": {
      "text/plain": [
       "(348, 3)"
      ]
     },
     "execution_count": 30,
     "metadata": {},
     "output_type": "execute_result"
    }
   ],
   "source": [
    "data_crop.shape"
   ]
  },
  {
   "cell_type": "code",
   "execution_count": 28,
   "metadata": {},
   "outputs": [
    {
     "data": {
      "text/plain": [
       "<matplotlib.collections.PathCollection at 0x2b9434556d8>"
      ]
     },
     "execution_count": 28,
     "metadata": {},
     "output_type": "execute_result"
    }
   ],
   "source": [
    "ax.scatter(test[:,0], test[:,1], c='g')"
   ]
  },
  {
   "cell_type": "code",
   "execution_count": 51,
   "metadata": {},
   "outputs": [],
   "source": [
    "col = np.ones(shape = (data.shape[0],1))\n",
    "data_new = np.concatenate((6*col,data,col,0.08*col), axis=1)"
   ]
  },
  {
   "cell_type": "code",
   "execution_count": 52,
   "metadata": {},
   "outputs": [
    {
     "data": {
      "text/plain": [
       "array([[ 6.    ,  0.3731,  4.5181,  1.1159,  1.    ,  0.08  ],\n",
       "       [ 6.    ,  0.3495,  8.6909,  1.1159,  1.    ,  0.08  ],\n",
       "       [ 6.    ,  0.3267, 12.8675,  1.1159,  1.    ,  0.08  ],\n",
       "       ...,\n",
       "       [ 6.    , 27.888 , 24.6038,  1.116 ,  1.    ,  0.08  ],\n",
       "       [ 6.    , 27.8285, 28.7596,  1.1164,  1.    ,  0.08  ],\n",
       "       [ 6.    , 27.9322, 32.9159,  1.1168,  1.    ,  0.08  ]])"
      ]
     },
     "execution_count": 52,
     "metadata": {},
     "output_type": "execute_result"
    }
   ],
   "source": [
    "#data_new = np.round(data_new, decimals=1)\n",
    "data_new"
   ]
  },
  {
   "cell_type": "code",
   "execution_count": 23,
   "metadata": {},
   "outputs": [],
   "source": [
    "np.savetxt('Z:\\Mohsen\\code\\sim_4DSTEM\\graphene_SW\\Graphene_SW_new.txt',data_new, header ='29.03 32.442 0.000' , footer = '-l',encoding='UTF-8')"
   ]
  },
  {
   "cell_type": "code",
   "execution_count": 47,
   "metadata": {},
   "outputs": [],
   "source": [
    "file = '/dls/science/groups/e02/Mohsen/code/sim_4DSTEM/auto_sim/xyz_files/graphene_island_extended.txt'\n",
    "with open(file, 'a') as f:\n",
    "    for row in data_new:\n",
    "        f.write('6  '+ str(row[0])+ '  '+ str(row[1])+ '  '+ str(row[2])+ '  1'+ '  0.0800 \\n')\n"
   ]
  },
  {
   "cell_type": "code",
   "execution_count": 36,
   "metadata": {},
   "outputs": [
    {
     "data": {
      "text/plain": [
       "29.7623"
      ]
     },
     "execution_count": 36,
     "metadata": {},
     "output_type": "execute_result"
    }
   ],
   "source": [
    "np.max(data_crop)"
   ]
  },
  {
   "cell_type": "code",
   "execution_count": 36,
   "metadata": {},
   "outputs": [],
   "source": [
    "import matplotlib.pyplot as plt"
   ]
  },
  {
   "cell_type": "code",
   "execution_count": 37,
   "metadata": {},
   "outputs": [],
   "source": [
    "fig, ax = plt.subplots(1,1)"
   ]
  },
  {
   "cell_type": "code",
   "execution_count": 38,
   "metadata": {},
   "outputs": [
    {
     "data": {
      "text/plain": [
       "<matplotlib.collections.PathCollection at 0x2b400198f60>"
      ]
     },
     "execution_count": 38,
     "metadata": {},
     "output_type": "execute_result"
    }
   ],
   "source": [
    "ax.scatter(data[:,0], data[:,1], data[:,2])"
   ]
  },
  {
   "cell_type": "code",
   "execution_count": 39,
   "metadata": {},
   "outputs": [],
   "source": [
    "plt.show()"
   ]
  },
  {
   "cell_type": "code",
   "execution_count": 16,
   "metadata": {},
   "outputs": [],
   "source": [
    "# defect-free case\n",
    "file = r'Z:\\Mohsen\\code\\sim_4DSTEM\\bilayer_no_defects\\Mohsen_graphene_2_layers_4_7_tile.txt'"
   ]
  },
  {
   "cell_type": "code",
   "execution_count": 18,
   "metadata": {},
   "outputs": [],
   "source": [
    "with open(file, 'r') as f:\n",
    "    nodef_data = np.genfromtxt(f, skip_header=2,skip_footer=1, usecols=(1,2,3))"
   ]
  },
  {
   "cell_type": "code",
   "execution_count": 19,
   "metadata": {},
   "outputs": [
    {
     "data": {
      "text/plain": [
       "array([[ 0.      ,  1.21    ,  0.      ],\n",
       "       [ 2.095781,  0.      ,  0.      ],\n",
       "       [ 0.      ,  3.63    ,  0.      ],\n",
       "       [ 2.095781,  2.42    ,  0.      ],\n",
       "       [ 4.191563,  1.21    ,  0.      ],\n",
       "       [ 6.287344,  0.      ,  0.      ],\n",
       "       [ 0.      ,  6.05    ,  0.      ],\n",
       "       [ 2.095781,  4.84    ,  0.      ],\n",
       "       [ 4.191563,  3.63    ,  0.      ],\n",
       "       [ 6.287344,  2.42    ,  0.      ],\n",
       "       [ 8.383126,  1.21    ,  0.      ],\n",
       "       [10.478907,  0.      ,  0.      ],\n",
       "       [ 0.      ,  8.47    ,  0.      ],\n",
       "       [ 2.095781,  7.26    ,  0.      ],\n",
       "       [ 4.191563,  6.05    ,  0.      ],\n",
       "       [ 6.287344,  4.84    ,  0.      ],\n",
       "       [ 8.383126,  3.63    ,  0.      ],\n",
       "       [10.478907,  2.42    ,  0.      ],\n",
       "       [12.574689,  1.21    ,  0.      ],\n",
       "       [14.67047 ,  0.      ,  0.      ],\n",
       "       [ 0.      , 10.89    ,  0.      ],\n",
       "       [ 2.095781,  9.68    ,  0.      ],\n",
       "       [ 4.191563,  8.47    ,  0.      ],\n",
       "       [ 6.287344,  7.26    ,  0.      ],\n",
       "       [ 8.383126,  6.05    ,  0.      ],\n",
       "       [10.478907,  4.84    ,  0.      ],\n",
       "       [12.574689,  3.63    ,  0.      ],\n",
       "       [14.67047 ,  2.42    ,  0.      ],\n",
       "       [ 0.      , 13.31    ,  0.      ],\n",
       "       [ 2.095781, 12.1     ,  0.      ],\n",
       "       [ 4.191563, 10.89    ,  0.      ],\n",
       "       [ 6.287344,  9.68    ,  0.      ],\n",
       "       [ 8.383126,  8.47    ,  0.      ],\n",
       "       [10.478907,  7.26    ,  0.      ],\n",
       "       [12.574689,  6.05    ,  0.      ],\n",
       "       [14.67047 ,  4.84    ,  0.      ],\n",
       "       [ 0.      , 15.73    ,  0.      ],\n",
       "       [ 2.095781, 14.52    ,  0.      ],\n",
       "       [ 4.191563, 13.31    ,  0.      ],\n",
       "       [ 6.287344, 12.1     ,  0.      ],\n",
       "       [ 8.383126, 10.89    ,  0.      ],\n",
       "       [10.478907,  9.68    ,  0.      ],\n",
       "       [12.574689,  8.47    ,  0.      ],\n",
       "       [14.67047 ,  7.26    ,  0.      ],\n",
       "       [ 4.191563, 15.73    ,  0.      ],\n",
       "       [ 6.287344, 14.52    ,  0.      ],\n",
       "       [ 8.383126, 13.31    ,  0.      ],\n",
       "       [10.478907, 12.1     ,  0.      ],\n",
       "       [12.574689, 10.89    ,  0.      ],\n",
       "       [14.67047 ,  9.68    ,  0.      ],\n",
       "       [ 8.383126, 15.73    ,  0.      ],\n",
       "       [10.478907, 14.52    ,  0.      ],\n",
       "       [12.574689, 13.31    ,  0.      ],\n",
       "       [14.67047 , 12.1     ,  0.      ],\n",
       "       [12.574689, 15.73    ,  0.      ],\n",
       "       [14.67047 , 14.52    ,  0.      ],\n",
       "       [ 1.397188,  1.21    ,  0.      ],\n",
       "       [ 3.492969,  0.      ,  0.      ],\n",
       "       [ 1.397188,  3.63    ,  0.      ],\n",
       "       [ 3.492969,  2.42    ,  0.      ],\n",
       "       [ 5.588751,  1.21    ,  0.      ],\n",
       "       [ 7.684532,  0.      ,  0.      ],\n",
       "       [ 1.397188,  6.05    ,  0.      ],\n",
       "       [ 3.492969,  4.84    ,  0.      ],\n",
       "       [ 5.588751,  3.63    ,  0.      ],\n",
       "       [ 7.684532,  2.42    ,  0.      ],\n",
       "       [ 9.780314,  1.21    ,  0.      ],\n",
       "       [11.876095,  0.      ,  0.      ],\n",
       "       [ 1.397188,  8.47    ,  0.      ],\n",
       "       [ 3.492969,  7.26    ,  0.      ],\n",
       "       [ 5.588751,  6.05    ,  0.      ],\n",
       "       [ 7.684532,  4.84    ,  0.      ],\n",
       "       [ 9.780314,  3.63    ,  0.      ],\n",
       "       [11.876095,  2.42    ,  0.      ],\n",
       "       [13.971877,  1.21    ,  0.      ],\n",
       "       [16.067658,  0.      ,  0.      ],\n",
       "       [ 1.397188, 10.89    ,  0.      ],\n",
       "       [ 3.492969,  9.68    ,  0.      ],\n",
       "       [ 5.588751,  8.47    ,  0.      ],\n",
       "       [ 7.684532,  7.26    ,  0.      ],\n",
       "       [ 9.780314,  6.05    ,  0.      ],\n",
       "       [11.876095,  4.84    ,  0.      ],\n",
       "       [13.971877,  3.63    ,  0.      ],\n",
       "       [16.067658,  2.42    ,  0.      ],\n",
       "       [ 1.397188, 13.31    ,  0.      ],\n",
       "       [ 3.492969, 12.1     ,  0.      ],\n",
       "       [ 5.588751, 10.89    ,  0.      ],\n",
       "       [ 7.684532,  9.68    ,  0.      ],\n",
       "       [ 9.780314,  8.47    ,  0.      ],\n",
       "       [11.876095,  7.26    ,  0.      ],\n",
       "       [13.971877,  6.05    ,  0.      ],\n",
       "       [16.067658,  4.84    ,  0.      ],\n",
       "       [ 1.397188, 15.73    ,  0.      ],\n",
       "       [ 3.492969, 14.52    ,  0.      ],\n",
       "       [ 5.588751, 13.31    ,  0.      ],\n",
       "       [ 7.684532, 12.1     ,  0.      ],\n",
       "       [ 9.780314, 10.89    ,  0.      ],\n",
       "       [11.876095,  9.68    ,  0.      ],\n",
       "       [13.971877,  8.47    ,  0.      ],\n",
       "       [16.067658,  7.26    ,  0.      ],\n",
       "       [ 5.588751, 15.73    ,  0.      ],\n",
       "       [ 7.684532, 14.52    ,  0.      ],\n",
       "       [ 9.780314, 13.31    ,  0.      ],\n",
       "       [11.876095, 12.1     ,  0.      ],\n",
       "       [13.971877, 10.89    ,  0.      ],\n",
       "       [16.067658,  9.68    ,  0.      ],\n",
       "       [ 9.780314, 15.73    ,  0.      ],\n",
       "       [11.876095, 14.52    ,  0.      ],\n",
       "       [13.971877, 13.31    ,  0.      ],\n",
       "       [16.067658, 12.1     ,  0.      ],\n",
       "       [13.971877, 15.73    ,  0.      ],\n",
       "       [16.067658, 14.52    ,  0.      ],\n",
       "       [ 1.397188,  1.21    ,  3.395   ],\n",
       "       [ 3.492969,  0.      ,  3.395   ],\n",
       "       [ 1.397188,  3.63    ,  3.395   ],\n",
       "       [ 3.492969,  2.42    ,  3.395   ],\n",
       "       [ 5.588751,  1.21    ,  3.395   ],\n",
       "       [ 7.684532,  0.      ,  3.395   ],\n",
       "       [ 1.397188,  6.05    ,  3.395   ],\n",
       "       [ 3.492969,  4.84    ,  3.395   ],\n",
       "       [ 5.588751,  3.63    ,  3.395   ],\n",
       "       [ 7.684532,  2.42    ,  3.395   ],\n",
       "       [ 9.780314,  1.21    ,  3.395   ],\n",
       "       [11.876095,  0.      ,  3.395   ],\n",
       "       [ 1.397188,  8.47    ,  3.395   ],\n",
       "       [ 3.492969,  7.26    ,  3.395   ],\n",
       "       [ 5.588751,  6.05    ,  3.395   ],\n",
       "       [ 7.684532,  4.84    ,  3.395   ],\n",
       "       [ 9.780314,  3.63    ,  3.395   ],\n",
       "       [11.876095,  2.42    ,  3.395   ],\n",
       "       [13.971877,  1.21    ,  3.395   ],\n",
       "       [16.067658,  0.      ,  3.395   ],\n",
       "       [ 1.397188, 10.89    ,  3.395   ],\n",
       "       [ 3.492969,  9.68    ,  3.395   ],\n",
       "       [ 5.588751,  8.47    ,  3.395   ],\n",
       "       [ 7.684532,  7.26    ,  3.395   ],\n",
       "       [ 9.780314,  6.05    ,  3.395   ],\n",
       "       [11.876095,  4.84    ,  3.395   ],\n",
       "       [13.971877,  3.63    ,  3.395   ],\n",
       "       [16.067658,  2.42    ,  3.395   ],\n",
       "       [ 1.397188, 13.31    ,  3.395   ],\n",
       "       [ 3.492969, 12.1     ,  3.395   ],\n",
       "       [ 5.588751, 10.89    ,  3.395   ],\n",
       "       [ 7.684532,  9.68    ,  3.395   ],\n",
       "       [ 9.780314,  8.47    ,  3.395   ],\n",
       "       [11.876095,  7.26    ,  3.395   ],\n",
       "       [13.971877,  6.05    ,  3.395   ],\n",
       "       [16.067658,  4.84    ,  3.395   ],\n",
       "       [ 1.397188, 15.73    ,  3.395   ],\n",
       "       [ 3.492969, 14.52    ,  3.395   ],\n",
       "       [ 5.588751, 13.31    ,  3.395   ],\n",
       "       [ 7.684532, 12.1     ,  3.395   ],\n",
       "       [ 9.780314, 10.89    ,  3.395   ],\n",
       "       [11.876095,  9.68    ,  3.395   ],\n",
       "       [13.971877,  8.47    ,  3.395   ],\n",
       "       [16.067658,  7.26    ,  3.395   ],\n",
       "       [ 5.588751, 15.73    ,  3.395   ],\n",
       "       [ 7.684532, 14.52    ,  3.395   ],\n",
       "       [ 9.780314, 13.31    ,  3.395   ],\n",
       "       [11.876095, 12.1     ,  3.395   ],\n",
       "       [13.971877, 10.89    ,  3.395   ],\n",
       "       [16.067658,  9.68    ,  3.395   ],\n",
       "       [ 9.780314, 15.73    ,  3.395   ],\n",
       "       [11.876095, 14.52    ,  3.395   ],\n",
       "       [13.971877, 13.31    ,  3.395   ],\n",
       "       [16.067658, 12.1     ,  3.395   ],\n",
       "       [13.971877, 15.73    ,  3.395   ],\n",
       "       [16.067658, 14.52    ,  3.395   ],\n",
       "       [ 0.698594,  0.      ,  3.395   ],\n",
       "       [ 0.698594,  2.42    ,  3.395   ],\n",
       "       [ 2.794375,  1.21    ,  3.395   ],\n",
       "       [ 4.890157,  0.      ,  3.395   ],\n",
       "       [ 0.698594,  4.84    ,  3.395   ],\n",
       "       [ 2.794375,  3.63    ,  3.395   ],\n",
       "       [ 4.890157,  2.42    ,  3.395   ],\n",
       "       [ 6.985938,  1.21    ,  3.395   ],\n",
       "       [ 9.08172 ,  0.      ,  3.395   ],\n",
       "       [ 0.698594,  7.26    ,  3.395   ],\n",
       "       [ 2.794375,  6.05    ,  3.395   ],\n",
       "       [ 4.890157,  4.84    ,  3.395   ],\n",
       "       [ 6.985938,  3.63    ,  3.395   ],\n",
       "       [ 9.08172 ,  2.42    ,  3.395   ],\n",
       "       [11.177501,  1.21    ,  3.395   ],\n",
       "       [13.273283,  0.      ,  3.395   ],\n",
       "       [ 0.698594,  9.68    ,  3.395   ],\n",
       "       [ 2.794375,  8.47    ,  3.395   ],\n",
       "       [ 4.890157,  7.26    ,  3.395   ],\n",
       "       [ 6.985938,  6.05    ,  3.395   ],\n",
       "       [ 9.08172 ,  4.84    ,  3.395   ],\n",
       "       [11.177501,  3.63    ,  3.395   ],\n",
       "       [13.273283,  2.42    ,  3.395   ],\n",
       "       [15.369064,  1.21    ,  3.395   ],\n",
       "       [ 0.698594, 12.1     ,  3.395   ],\n",
       "       [ 2.794375, 10.89    ,  3.395   ],\n",
       "       [ 4.890157,  9.68    ,  3.395   ],\n",
       "       [ 6.985938,  8.47    ,  3.395   ],\n",
       "       [ 9.08172 ,  7.26    ,  3.395   ],\n",
       "       [11.177501,  6.05    ,  3.395   ],\n",
       "       [13.273283,  4.84    ,  3.395   ],\n",
       "       [15.369064,  3.63    ,  3.395   ],\n",
       "       [ 0.698594, 14.52    ,  3.395   ],\n",
       "       [ 2.794375, 13.31    ,  3.395   ],\n",
       "       [ 4.890157, 12.1     ,  3.395   ],\n",
       "       [ 6.985938, 10.89    ,  3.395   ],\n",
       "       [ 9.08172 ,  9.68    ,  3.395   ],\n",
       "       [11.177501,  8.47    ,  3.395   ],\n",
       "       [13.273283,  7.26    ,  3.395   ],\n",
       "       [15.369064,  6.05    ,  3.395   ],\n",
       "       [ 2.794375, 15.73    ,  3.395   ],\n",
       "       [ 4.890157, 14.52    ,  3.395   ],\n",
       "       [ 6.985938, 13.31    ,  3.395   ],\n",
       "       [ 9.08172 , 12.1     ,  3.395   ],\n",
       "       [11.177501, 10.89    ,  3.395   ],\n",
       "       [13.273283,  9.68    ,  3.395   ],\n",
       "       [15.369064,  8.47    ,  3.395   ],\n",
       "       [ 6.985938, 15.73    ,  3.395   ],\n",
       "       [ 9.08172 , 14.52    ,  3.395   ],\n",
       "       [11.177501, 13.31    ,  3.395   ],\n",
       "       [13.273283, 12.1     ,  3.395   ],\n",
       "       [15.369064, 10.89    ,  3.395   ],\n",
       "       [11.177501, 15.73    ,  3.395   ],\n",
       "       [13.273283, 14.52    ,  3.395   ],\n",
       "       [15.369064, 13.31    ,  3.395   ],\n",
       "       [15.369064, 15.73    ,  3.395   ]])"
      ]
     },
     "execution_count": 19,
     "metadata": {},
     "output_type": "execute_result"
    }
   ],
   "source": [
    "nodef_data"
   ]
  },
  {
   "cell_type": "code",
   "execution_count": 25,
   "metadata": {},
   "outputs": [
    {
     "data": {
      "text/plain": [
       "16.067658"
      ]
     },
     "execution_count": 25,
     "metadata": {},
     "output_type": "execute_result"
    }
   ],
   "source": [
    "max(nodef_data[:,0])"
   ]
  },
  {
   "cell_type": "code",
   "execution_count": 22,
   "metadata": {},
   "outputs": [
    {
     "data": {
      "text/plain": [
       "15.73"
      ]
     },
     "execution_count": 22,
     "metadata": {},
     "output_type": "execute_result"
    }
   ],
   "source": [
    "max(nodef_data[:,1])"
   ]
  },
  {
   "cell_type": "code",
   "execution_count": 26,
   "metadata": {},
   "outputs": [
    {
     "data": {
      "text/plain": [
       "3.395"
      ]
     },
     "execution_count": 26,
     "metadata": {},
     "output_type": "execute_result"
    }
   ],
   "source": [
    "max(nodef_data[:,2])"
   ]
  },
  {
   "cell_type": "code",
   "execution_count": 54,
   "metadata": {},
   "outputs": [
    {
     "data": {
      "text/plain": [
       "dtype('float64')"
      ]
     },
     "execution_count": 54,
     "metadata": {},
     "output_type": "execute_result"
    }
   ],
   "source": [
    "nodef_data.dtype"
   ]
  },
  {
   "cell_type": "code",
   "execution_count": null,
   "metadata": {},
   "outputs": [],
   "source": []
  }
 ],
 "metadata": {
  "kernelspec": {
   "display_name": "Python 3",
   "language": "python",
   "name": "python3"
  },
  "language_info": {
   "codemirror_mode": {
    "name": "ipython",
    "version": 3
   },
   "file_extension": ".py",
   "mimetype": "text/x-python",
   "name": "python",
   "nbconvert_exporter": "python",
   "pygments_lexer": "ipython3",
   "version": "3.7.3"
  }
 },
 "nbformat": 4,
 "nbformat_minor": 2
}
