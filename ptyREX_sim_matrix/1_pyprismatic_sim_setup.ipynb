{
 "cells": [
  {
   "cell_type": "markdown",
   "metadata": {},
   "source": [
    "This notebook determines the input parameters for the simulated datasets.\n",
    "Based on the object, we look at the diffraction overlap at the various convergence semi-angle values.\n",
    "We then look into deciding on the probes and step sizes in order to reach a wide range of overlap values."
   ]
  },
  {
   "cell_type": "code",
   "execution_count": 1,
   "metadata": {},
   "outputs": [],
   "source": [
    "#%matplotlib qt\n",
    "%matplotlib inline"
   ]
  },
  {
   "cell_type": "code",
   "execution_count": 2,
   "metadata": {},
   "outputs": [],
   "source": [
    "import numpy as np\n",
    "import hyperspy.api as hs\n",
    "import os\n",
    "import h5py"
   ]
  },
  {
   "cell_type": "code",
   "execution_count": 3,
   "metadata": {},
   "outputs": [],
   "source": [
    "from sim_utils import *"
   ]
  },
  {
   "cell_type": "markdown",
   "metadata": {},
   "source": [
    "For graphene at 80 kV below are the convergence semi-angle values and the overlap between the bf disc and the first reflection of graphene at 0.01960 rad:\n",
    "\n",
    "| Convergence semi_angle (rad)        | Overlap in reciprocal space (%)           |\n",
    "| :-------------: |:-------------:| \n",
    "| 0.008      | -22.5 | \n",
    "| 0.010      | 1.99      | \n",
    "| 0.015 | 34.70      |  \n",
    "| 0.025  | 60.80     |   \n",
    "| 0.032 | 69.37       |   \n",
    "| 0.042 | 76.67       | \n",
    "\n",
    "These are corresponding to the CL aperture sizes on G-ARM in the standard STEM alignment with the exception of 10 mrad, which is included to give a small percentage overlap datapoint.\n"
   ]
  },
  {
   "cell_type": "code",
   "execution_count": 4,
   "metadata": {},
   "outputs": [
    {
     "data": {
      "text/plain": [
       "76.66666666666667"
      ]
     },
     "execution_count": 4,
     "metadata": {},
     "output_type": "execute_result"
    }
   ],
   "source": [
    "# function to get the obove values\n",
    "get_overlap(0.042, 0.01960)"
   ]
  },
  {
   "cell_type": "markdown",
   "metadata": {},
   "source": [
    "# sim starting parameters:\n",
    "Accelerating voltage: 80 kV\n",
    "\n",
    "pixelSize: 0.11 A\n",
    "\n",
    "This gives us 130 by 130 in detector array\n",
    "\n",
    "Based on the above convergence semi-angle values, in each case we get two probes: \n",
    "\n",
    "one at zero defocus\n",
    "\n",
    "one with maximum defocus - defined as the probe with diameter equal to half the reconstrction array, i.e. 7.15 A =  (0.11 A *130 / 2) in this case. \n",
    "\n",
    "We then find the step sizes that can give us a wide range of cases:\n",
    "\n",
    "Target probe overlap values (%): -20, 2, 35, 60, 70, 80, 95"
   ]
  },
  {
   "cell_type": "code",
   "execution_count": 5,
   "metadata": {},
   "outputs": [
    {
     "name": "stdout",
     "output_type": "stream",
     "text": [
      "0.008\n",
      "1.6939999999999465e-08\n",
      "0.01\n",
      "1.6389999999999497e-08\n",
      "0.015\n",
      "1.3369999999999669e-08\n",
      "0.025\n",
      "1.0639999999999823e-08\n",
      "0.032\n",
      "9.619999999999882e-09\n",
      "0.042\n",
      "8.399999999999951e-09\n"
     ]
    }
   ],
   "source": [
    "pixel_size = 0.11e-10 # in m\n",
    "image_size = [130, 130]\n",
    "e_0 = 80000\n",
    "l = e_lambda(e_0)\n",
    "conv_semi_list = [0.008, 0.010, 0.015, 0.025, 0.032, 0.042]\n",
    "def_vals = [] \n",
    "probes = []\n",
    "\n",
    "for angle in conv_semi_list:\n",
    "    # 6 focussed probes\n",
    "    probe = calc_probe_size(pixel_size, image_size, l, 0, angle, plot_probe= False, return_probeArr= True)\n",
    "    probes.append(probe)\n",
    "    def_vals.append(0)\n",
    "    # defocus values\n",
    "for angle in conv_semi_list:  \n",
    "    # 6 defocussed probes\n",
    "    print(angle)\n",
    "    def_val = max_defocus(pixel_size, image_size, l, angle)\n",
    "    print(def_val)\n",
    "    def_vals.append(def_val)\n",
    "    probe = calc_probe_size(pixel_size, image_size, l, def_val, angle, plot_probe= False, return_probeArr= True)\n",
    "    probes.append(probe)\n",
    "\n",
    "probes = np.asanyarray(probes)"
   ]
  },
  {
   "cell_type": "code",
   "execution_count": 6,
   "metadata": {},
   "outputs": [
    {
     "data": {
      "text/plain": [
       "[0,\n",
       " 0,\n",
       " 0,\n",
       " 0,\n",
       " 0,\n",
       " 0,\n",
       " 1.6939999999999465e-08,\n",
       " 1.6389999999999497e-08,\n",
       " 1.3369999999999669e-08,\n",
       " 1.0639999999999823e-08,\n",
       " 9.619999999999882e-09,\n",
       " 8.399999999999951e-09]"
      ]
     },
     "execution_count": 6,
     "metadata": {},
     "output_type": "execute_result"
    }
   ],
   "source": [
    "def_vals"
   ]
  },
  {
   "cell_type": "code",
   "execution_count": 7,
   "metadata": {},
   "outputs": [
    {
     "data": {
      "text/plain": [
       "(12, 2)"
      ]
     },
     "execution_count": 7,
     "metadata": {},
     "output_type": "execute_result"
    }
   ],
   "source": [
    "probes.shape"
   ]
  },
  {
   "cell_type": "code",
   "execution_count": 8,
   "metadata": {},
   "outputs": [
    {
     "data": {
      "text/plain": [
       "[0.008, 0.01, 0.015, 0.025, 0.032, 0.042]"
      ]
     },
     "execution_count": 8,
     "metadata": {},
     "output_type": "execute_result"
    }
   ],
   "source": [
    "conv_semi_list"
   ]
  },
  {
   "cell_type": "code",
   "execution_count": 9,
   "metadata": {},
   "outputs": [],
   "source": [
    "probe_overlaps = [-20, 2, 35, 60, 70, 80, 95]\n",
    "step_sizes = []\n",
    "for i in np.arange(12):\n",
    "    for overlap in probe_overlaps:\n",
    "        step_sizes.append(get_step_size(probes[i][0], overlap / 100))\n"
   ]
  },
  {
   "cell_type": "code",
   "execution_count": 10,
   "metadata": {},
   "outputs": [
    {
     "data": {
      "text/plain": [
       "[Text(0, 0.5, 'step size (m)'),\n",
       " Text(0.5, 1.0, 'scan step sizes for target overlap values')]"
      ]
     },
     "execution_count": 10,
     "metadata": {},
     "output_type": "execute_result"
    },
    {
     "data": {
      "image/png": "[encoded data removed]",
      "text/plain": [
       "<Figure size 432x288 with 1 Axes>"
      ]
     },
     "metadata": {
      "needs_background": "light"
     },
     "output_type": "display_data"
    }
   ],
   "source": [
    "fig, ax = plt.subplots()\n",
    "\n",
    "ax.plot(step_sizes, 'bo')\n",
    "\n",
    "ax.annotate('Focussed probes', xy=(15, 5.8e-10),\n",
    "            bbox=dict(boxstyle=\"round\", fc=\"none\", ec=\"gray\"),\n",
    "            xytext=(10, 5e-10), textcoords='offset points', ha='center')\n",
    "ax.annotate('Defocussed probes', xy=(45, 5.8e-10),\n",
    "            bbox=dict(boxstyle=\"round\", fc=\"none\", ec=\"gray\"),\n",
    "            xytext=(60, 5e-10), textcoords='offset points', ha='center')\n",
    "ax.set(title='scan step sizes for target overlap values',\n",
    "       ylabel='step size (m)')"
   ]
  },
  {
   "cell_type": "code",
   "execution_count": 11,
   "metadata": {},
   "outputs": [
    {
     "data": {
      "text/plain": [
       "Text(0.5, 0, 'sim conditions')"
      ]
     },
     "execution_count": 11,
     "metadata": {},
     "output_type": "execute_result"
    },
    {
     "data": {
      "image/png": "[encoded data removed]",
      "text/plain": [
       "<Figure size 432x288 with 1 Axes>"
      ]
     },
     "metadata": {
      "needs_background": "light"
     },
     "output_type": "display_data"
    }
   ],
   "source": [
    "probe_overlaps_all = probe_overlaps * 12\n",
    "plt.plot(probe_overlaps_all, 'ro')\n",
    "plt.ylabel('probe overlap (%)')\n",
    "plt.xlabel('sim conditions')"
   ]
  },
  {
   "cell_type": "code",
   "execution_count": 12,
   "metadata": {},
   "outputs": [
    {
     "data": {
      "text/plain": [
       "Text(0.5, 0, 'sim conditions')"
      ]
     },
     "execution_count": 12,
     "metadata": {},
     "output_type": "execute_result"
    },
    {
     "data": {
      "image/png": "[encoded data removed]",
      "text/plain": [
       "<Figure size 432x288 with 1 Axes>"
      ]
     },
     "metadata": {
      "needs_background": "light"
     },
     "output_type": "display_data"
    }
   ],
   "source": [
    "def_vals_all = [y for x in def_vals for y in (x,)*7]\n",
    "plt.plot(def_vals_all, 'ko')\n",
    "plt.ylabel('defocus (m)')\n",
    "plt.xlabel('sim conditions')"
   ]
  },
  {
   "cell_type": "code",
   "execution_count": 13,
   "metadata": {},
   "outputs": [
    {
     "data": {
      "text/plain": [
       "Text(0.5, 0, 'sim conditions')"
      ]
     },
     "execution_count": 13,
     "metadata": {},
     "output_type": "execute_result"
    },
    {
     "data": {
      "image/png": "[encoded data removed]",
      "text/plain": [
       "<Figure size 432x288 with 1 Axes>"
      ]
     },
     "metadata": {
      "needs_background": "light"
     },
     "output_type": "display_data"
    }
   ],
   "source": [
    "conv_semi_all = [y for x in conv_semi_list for y in (x,)*7] * 2\n",
    "plt.plot(conv_semi_all, 'bo')\n",
    "plt.ylabel('convergence semi_angle (rad)')\n",
    "plt.xlabel('sim conditions')"
   ]
  },
  {
   "cell_type": "code",
   "execution_count": 14,
   "metadata": {},
   "outputs": [],
   "source": [
    "conv_semi_all = np.asarray(conv_semi_all)\n",
    "def_vals_all = np.asarray(def_vals_all)\n",
    "step_sizes = np.asarray(step_sizes)\n",
    "sim_conditions = np.vstack((conv_semi_all, def_vals_all, step_sizes))"
   ]
  },
  {
   "cell_type": "code",
   "execution_count": 15,
   "metadata": {},
   "outputs": [
    {
     "data": {
      "text/plain": [
       "array([8.0000000e-03, 0.0000000e+00, 3.7352151e-10])"
      ]
     },
     "execution_count": 15,
     "metadata": {},
     "output_type": "execute_result"
    }
   ],
   "source": [
    "sim_conditions[:,0]\n",
    "# convergence semi-angle (rad), defocus (m), step_size (m)"
   ]
  },
  {
   "cell_type": "code",
   "execution_count": 16,
   "metadata": {},
   "outputs": [
    {
     "data": {
      "text/plain": [
       "(3, 84)"
      ]
     },
     "execution_count": 16,
     "metadata": {},
     "output_type": "execute_result"
    }
   ],
   "source": [
    "sim_conditions.shape"
   ]
  }
 ],
 "metadata": {
  "kernelspec": {
   "display_name": "Python 3",
   "language": "python",
   "name": "python3"
  },
  "language_info": {
   "codemirror_mode": {
    "name": "ipython",
    "version": 3
   },
   "file_extension": ".py",
   "mimetype": "text/x-python",
   "name": "python",
   "nbconvert_exporter": "python",
   "pygments_lexer": "ipython3",
   "version": "3.7.6"
  }
 },
 "nbformat": 4,
 "nbformat_minor": 4
}
