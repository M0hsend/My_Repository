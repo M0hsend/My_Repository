{
 "cells": [
  {
   "cell_type": "code",
   "execution_count": 1,
   "metadata": {},
   "outputs": [],
   "source": [
    "excel_path = '/dls/e02/data/2020/cm26481-1/processing/Merlin/20200130_80kV_graphene_600C_pty/20200130_Ptychography_speadsheet.xlsx'\n",
    "session_path = '/dls/e02/data/2020/cm26481-1/processing/Merlin/20200130_80kV_graphene_600C_pty/'\n",
    "header = 7\n",
    "cols = \"A:R\" "
   ]
  },
  {
   "cell_type": "code",
   "execution_count": 2,
   "metadata": {},
   "outputs": [
    {
     "name": "stderr",
     "output_type": "stream",
     "text": [
      "WARNING:silx.opencl.common:Unable to import pyOpenCl. Please install it from: http://pypi.python.org/pypi/pyopencl\n"
     ]
    }
   ],
   "source": [
    "import pandas as pd\n",
    "import os\n",
    "import h5py\n",
    "import pyxem as pxm\n",
    "import numpy as np\n",
    "import sys\n",
    "sys.path.append('/dls/science/groups/e02/Mohsen/code/Git_Repos/Merlin-Medipix/')\n",
    "import epsic_tools.api as epsic"
   ]
  },
  {
   "cell_type": "code",
   "execution_count": 61,
   "metadata": {},
   "outputs": [],
   "source": [
    "def purge_file(parent_path, name_has, extension):\n",
    "    \"\"\"\n",
    "    to conveniently delete unwated files in a nested folder.\n",
    "    Input\n",
    "    _______\n",
    "    path: str\n",
    "        full path of the parent folder\n",
    "    name_has: str\n",
    "        string appearing in the file name\n",
    "    extension: str\n",
    "        unwated files extension\n",
    "    \n",
    "    \"\"\"\n",
    "    to_del = []\n",
    "    \n",
    "    for root, dirs, files in os.walk(parent_path):\n",
    "        path = root.split(os.sep)\n",
    "        for file in files:\n",
    "            if (file.endswith(extension) and name_has in file):\n",
    "                to_del.append(os.path.join(os.sep,*path,file))\n",
    "    \n",
    "    for file in to_del:\n",
    "        if os.path.isfile(file):\n",
    "            os.remove(file)\n",
    "            print('deleted: ', file)\n",
    "    return \n",
    "    "
   ]
  },
  {
   "cell_type": "code",
   "execution_count": 63,
   "metadata": {},
   "outputs": [],
   "source": [
    "def parse_excel(excel_path):\n",
    "    data = pd.read_excel(excel_path, header=header, usecols=cols)\n",
    "    # remove rows where all elements are nans\n",
    "    data.dropna(how='all', inplace=True) \n",
    "    \n",
    "    list_of_dicts = []\n",
    "    for i in range(len(data)):\n",
    "        entry = data.iloc[i]\n",
    "        entry_dict = entry.to_dict()\n",
    "        list_of_dicts.append(entry_dict)\n",
    "    return list_of_dicts"
   ]
  },
  {
   "cell_type": "code",
   "execution_count": 64,
   "metadata": {},
   "outputs": [],
   "source": [
    "def _create_metadata_dict(session_path, entry_dict):\n",
    "    metadata_dict = {}\n",
    "    \n",
    "    metadata_dict['dataset'] = entry_dict['Folder']\n",
    "    metadata_dict['accelerating voltage (keV)'] = entry_dict.pop('keV')\n",
    "    metadata_dict['A2 value (keV)'] = entry_dict.pop('A2 (kV)')\n",
    "    metadata_dict['spot size'] = entry_dict.pop('Spot')\n",
    "    metadata_dict['CL aperture'] = entry_dict.pop('CLA')\n",
    "    metadata_dict['convergence simi-angle'] = {}\n",
    "    metadata_dict['convergence simi-angle']['nominal (mrad)'] = entry_dict.pop('alpha')\n",
    "    metadata_dict['convergence simi-angle']['calibrated (mrad)'] = []\n",
    "    metadata_dict['convergence simi-angle']['calibration comments'] = []\n",
    "    metadata_dict['camera length'] = {}\n",
    "    metadata_dict['camera length']['nominal (cm)'] = entry_dict.pop('CL')\n",
    "    metadata_dict['camera length']['calibrated (cm)'] = []\n",
    "    metadata_dict['camera length']['calibration comments'] = []\n",
    "    metadata_dict['defocus'] = {}\n",
    "    metadata_dict['defocus']['nominal (nm)'] = entry_dict.pop('nominal defocus (nm)')\n",
    "    metadata_dict['defocus']['calibrated (nm)'] = []\n",
    "    metadata_dict['defocus']['calibration comments'] = []\n",
    "    metadata_dict['MAG'] = entry_dict.pop('Scan Mag')\n",
    "    metadata_dict['FOV (A)'] = entry_dict.pop('Field of view (Ang)')\n",
    "    metadata_dict['recorded probe positions'] = entry_dict.pop('probe positions recorded')\n",
    "    metadata_dict['counter depth'] = entry_dict.pop('counter depth')\n",
    "    metadata_dict['saved data bit depth'] = entry_dict.pop('Saved data bit depth')\n",
    "    metadata_dict['step size (A)'] = entry_dict.pop('step size (Ang)')\n",
    "    metadata_dict['frame time (ms)'] = entry_dict.pop('frame time (ms)')\n",
    "    \n",
    "    metadata_dict['Comments'] = entry_dict.pop('Notes')\n",
    "    \n",
    "    return metadata_dict"
   ]
  },
  {
   "cell_type": "code",
   "execution_count": null,
   "metadata": {},
   "outputs": [],
   "source": [
    "list_of_dicts = parse_excel(excel_path)\n",
    "\n",
    "for entry in list_of_dicts:\n",
    "    results = []\n",
    "    if entry['Folder'] in os.listdir(session_path):\n",
    "        metadata_dict = _create_metadata_dict(session_path, entry)\n",
    "        results.append(metadata_dict)\n",
    "        hdf5_files = _get_hdf_list(os.path.join(session_path, entry['Folder']))\n",
    "        for file in hdf5_files:\n",
    "            a, b = os.path.splitext(file)\n",
    "            meta_file_name = a + '_metadata.hdf5'\n",
    "            epsic.ptycho_utils.save_dict_to_hdf5(metadata_dict, meta_file_name)\n",
    "    else:\n",
    "        print(entry['Folder'] , ' not among the datasets - no metadata added.')"
   ]
  },
  {
   "cell_type": "code",
   "execution_count": 65,
   "metadata": {},
   "outputs": [],
   "source": [
    "test = epsic.ptycho_utils.load_dict_from_hdf5('/dls/e02/data/2020/cm26481-1/processing/Merlin/20200130_80kV_graphene_600C_pty/20200130 163208/binned_diff_80kV_600C_CLA_40um_CL_10cm_8C_20Mx_A2_4p71_dfneg10nm_scan_array_255by255_diff_plane_128by128__metadata.hdf5')"
   ]
  },
  {
   "cell_type": "code",
   "execution_count": 66,
   "metadata": {},
   "outputs": [
    {
     "data": {
      "text/plain": [
       "{'A2 value (keV)': 4.71,\n",
       " 'CL aperture': '40um',\n",
       " 'Comments': nan,\n",
       " 'FOV (A)': 9.52e-09,\n",
       " 'MAG': '20Mx',\n",
       " 'accelerating voltage (keV)': 80.0,\n",
       " 'camera length': {'calibrated (cm)': array([], dtype=float64),\n",
       "  'calibration comments': array([], dtype=float64),\n",
       "  'nominal (cm)': 17.32},\n",
       " 'convergence simi-angle': {'calibrated (mrad)': array([], dtype=float64),\n",
       "  'calibration comments': array([], dtype=float64),\n",
       "  'nominal (mrad)': 31.74},\n",
       " 'counter depth': 6.0,\n",
       " 'dataset': '20200130 163208',\n",
       " 'defocus': {'calibrated (nm)': array([], dtype=float64),\n",
       "  'calibration comments': array([], dtype=float64),\n",
       "  'nominal (nm)': -10.0},\n",
       " 'frame time (ms)': 0.7,\n",
       " 'recorded probe positions': 256.0,\n",
       " 'saved data bit depth': 8.0,\n",
       " 'spot size': '8C',\n",
       " 'step size (A)': 3.71875e-11}"
      ]
     },
     "execution_count": 66,
     "metadata": {},
     "output_type": "execute_result"
    }
   ],
   "source": [
    "test"
   ]
  },
  {
   "cell_type": "code",
   "execution_count": null,
   "metadata": {},
   "outputs": [],
   "source": []
  }
 ],
 "metadata": {
  "kernelspec": {
   "display_name": "Python 3",
   "language": "python",
   "name": "python3"
  },
  "language_info": {
   "codemirror_mode": {
    "name": "ipython",
    "version": 3
   },
   "file_extension": ".py",
   "mimetype": "text/x-python",
   "name": "python",
   "nbconvert_exporter": "python",
   "pygments_lexer": "ipython3",
   "version": "3.7.6"
  }
 },
 "nbformat": 4,
 "nbformat_minor": 4
}
